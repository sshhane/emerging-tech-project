{
 "cells": [
  {
   "cell_type": "markdown",
   "metadata": {},
   "source": [
    "# 5. Digit recognition notebook:\n",
    "#### A jupyter notebook explaining how the Digit Recognition Python script works and discussing its performance."
   ]
  },
  {
   "cell_type": "markdown",
   "metadata": {},
   "source": [
    "## The Script\n",
    "This python script will build and train a digit recognition model using keras and tensorflow with data from the MNIST dataset.  Additionally it is capable of accepting an image file of a digit on a dark background and classifying it as a number from 0 - 9"
   ]
  },
  {
   "cell_type": "markdown",
   "metadata": {},
   "source": [
    "## How it Works\n",
    "\n",
    "I am using the package [Keras](https://keras.io) to load the MNIST dataset and to build the models with [Tensorflow](https://www.tensorflow.org)\n",
    "\n",
    "#### What is Keras?\n",
    "Keras is a deep learning library for python which provides an easy to use suit of modules.  It provides an easy and efficient way of loading the MNIST data and also a very user-friendly way of creating neural networks \n",
    "From the [Keras](https://keras.io) website:\n",
    ">Keras is a high-level neural networks API, written in Python and capable of running on top of TensorFlow\n",
    "\n",
    "#### What is Tensorflow?\n",
    "From their [about page](https://www.tensorflow.org):\n",
    ">TensorFlow™ is an open source software library for high performance numerical computation.\n",
    "\n",
    "One of the most popular uses for Tensorflow is machine learning, more info on this can be found on the [Tensorflow Keras tutorials page](https://www.tensorflow.org/tutorials/keras/)\n",
    "### Training\n",
    "<img src=\"img/neuralNet.png\">\n",
    "\n",
    "A neural network consists of a number of abtracted and hidden layers that filter the inputed data into some sort of output node/s, see the diagram above\n",
    "\n",
    "when the script is run and the train argument is passed the MNIST dataset is loaded into memory using:\n",
    "\n",
    ">(X_train, y_train), (X_test, y_test) = mnist.load_data()\n",
    "\n",
    "#### Entry / Convolutional Layer\n",
    "This is the initial entry layer, taking in an array of pixels, width and height and produces a tensor.  More info [here](https://keras.io/layers/convolutional/)\n",
    "\n",
    "#### Pooling Layer\n",
    "The purpose of this layer is to reduce computation in the neural net, info found [here](https://stackoverflow.com/questions/43453712/what-is-output-tensor-of-max-pooling-2d-layer-in-tensorflow) and [here](https://leonardoaraujosantos.gitbooks.io/artificial-inteligence/content/pooling_layer.html)\n",
    "\n",
    "#### Dropout Layer\n",
    "This layer is here to make sure that the network does not have an overy tailored fit to the training and test data.\n",
    "\n",
    ">Dropout is a technique used to improve over-fit on neural networks\n",
    "\n",
    "[Source](https://leonardoaraujosantos.gitbooks.io/artificial-inteligence/content/dropout_layer.html)\n",
    "#### Flatten Layers\n",
    "In order to process individual channels e.g.(r,g,b), this step is required so that all three in this eqample would be processed by all neurons, instead of individually\n",
    "\n",
    "[info](https://stackoverflow.com/questions/44176982/how-flatten-layer-works-in-keras)\n",
    "\n",
    "#### Dense Layer\n",
    "Standard, densley connected layers:\n",
    "* 128 neurons layer\n",
    "\n",
    "* 50 neurons layer\n",
    "\n",
    "\n",
    "\n",
    "<img src=\"img/training.png\">\n",
    "\n",
    "### Evaluating"
   ]
  },
  {
   "cell_type": "markdown",
   "metadata": {},
   "source": [
    "### Features\n"
   ]
  },
  {
   "cell_type": "markdown",
   "metadata": {},
   "source": [
    "### Limitations"
   ]
  },
  {
   "cell_type": "markdown",
   "metadata": {},
   "source": [
    "### Performance"
   ]
  },
  {
   "cell_type": "markdown",
   "metadata": {},
   "source": [
    "## Resources\n",
    "\n",
    "https://leonardoaraujosantos.gitbooks.io/artificial-inteligence/content/\n",
    "\n",
    "https://jovianlin.io/saving-loading-keras-models/\n",
    "\n",
    "https://machinelearningmastery.com/handwritten-digit-recognition-using-convolutional-neural-networks-python-keras/\n",
    "\n",
    "https://keras.io/\n",
    "\n",
    "https://keras.io/layers/convolutional/\n",
    "\n",
    "https://stackoverflow.com/questions/41563720/error-when-checking-model-input-expected-convolution2d-input-1-to-have-4-dimens"
   ]
  },
  {
   "cell_type": "code",
   "execution_count": null,
   "metadata": {},
   "outputs": [],
   "source": []
  }
 ],
 "metadata": {
  "kernelspec": {
   "display_name": "Python 3",
   "language": "python",
   "name": "python3"
  },
  "language_info": {
   "codemirror_mode": {
    "name": "ipython",
    "version": 3
   },
   "file_extension": ".py",
   "mimetype": "text/x-python",
   "name": "python",
   "nbconvert_exporter": "python",
   "pygments_lexer": "ipython3",
   "version": "3.6.5"
  }
 },
 "nbformat": 4,
 "nbformat_minor": 2
}
