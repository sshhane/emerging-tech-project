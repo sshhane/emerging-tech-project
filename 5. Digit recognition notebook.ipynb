{
 "cells": [
  {
   "cell_type": "markdown",
   "metadata": {},
   "source": [
    "# 5. Digit recognition notebook:\n",
    "#### A jupyter notebook explaining how the Digit Recognition Python script works and discussing its performance."
   ]
  },
  {
   "cell_type": "markdown",
   "metadata": {},
   "source": [
    "## The Script\n",
    "This python script will build and train a digit recognition model using keras and tensorflow with data from the MNIST dataset.  Additionally it is capable of accepting an image file of a digit on a dark background and classifying it as a number from 0 - 9"
   ]
  },
  {
   "cell_type": "markdown",
   "metadata": {},
   "source": [
    "## How it Works\n",
    "\n",
    "I am using the package [Keras](https://keras.io) to load the MNIST dataset and to build the models with [Tensorflow](https://www.tensorflow.org)\n",
    "\n",
    "#### What is Keras?\n",
    "Keras is a deep learning library for python which provides an easy to use suit of modules.  It provides an easy and efficient way of loading the MNIST data and also a very user-friendly way of creating neural networks \n",
    "From the [Keras](https://keras.io) website:\n",
    ">Keras is a high-level neural networks API, written in Python and capable of running on top of TensorFlow\n",
    "\n",
    "### Training\n",
    "<img src=\"img/training.png\">\n",
    "\n",
    "### Evaluating"
   ]
  },
  {
   "cell_type": "markdown",
   "metadata": {},
   "source": [
    "### Features\n"
   ]
  },
  {
   "cell_type": "markdown",
   "metadata": {},
   "source": [
    "### Limitations"
   ]
  },
  {
   "cell_type": "markdown",
   "metadata": {},
   "source": [
    "### Performance"
   ]
  },
  {
   "cell_type": "markdown",
   "metadata": {},
   "source": [
    "## Resources\n",
    "\n",
    "https://jovianlin.io/saving-loading-keras-models/\n",
    "\n",
    "https://machinelearningmastery.com/handwritten-digit-recognition-using-convolutional-neural-networks-python-keras/\n",
    "\n",
    "https://keras.io/\n",
    "\n",
    "https://keras.io/layers/convolutional/\n",
    "\n",
    "https://stackoverflow.com/questions/41563720/error-when-checking-model-input-expected-convolution2d-input-1-to-have-4-dimens"
   ]
  },
  {
   "cell_type": "code",
   "execution_count": null,
   "metadata": {},
   "outputs": [],
   "source": []
  }
 ],
 "metadata": {
  "kernelspec": {
   "display_name": "Python 3",
   "language": "python",
   "name": "python3"
  },
  "language_info": {
   "codemirror_mode": {
    "name": "ipython",
    "version": 3
   },
   "file_extension": ".py",
   "mimetype": "text/x-python",
   "name": "python",
   "nbconvert_exporter": "python",
   "pygments_lexer": "ipython3",
   "version": "3.6.5"
  }
 },
 "nbformat": 4,
 "nbformat_minor": 2
}
