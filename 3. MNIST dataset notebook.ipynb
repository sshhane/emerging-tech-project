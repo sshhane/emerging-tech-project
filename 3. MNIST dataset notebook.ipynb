{
 "cells": [
  {
   "cell_type": "markdown",
   "metadata": {},
   "source": [
    "# 3. MNIST Dataset Notebook\n",
    "MNIST dataset notebook: a jupyter notebook explaining how to read the MNIST dataset efficiently into memory in Python."
   ]
  },
  {
   "cell_type": "markdown",
   "metadata": {},
   "source": [
    "<img src=\"img/mnist.png\" style=\"width:200\">\n",
    "\n",
    "## THE MNIST DATABASE\n",
    "MNIST stands for Modified National Institute of Standards and Technology, which refferes the NIST dataset which is a dataset of hand-printed characters.  The MNIST dataset consists of 60,000 training images and 10,000 testing images, half of each of these is made up of data from both the training set and the test set from NIST."
   ]
  },
  {
   "cell_type": "markdown",
   "metadata": {},
   "source": [
    "## Loading into Memory\n",
    "https://docs.python.org/3/library/gzip.html\n",
    "\n",
    "Because the files are in a .gzip format there needs to be a way to unarchive them to access the dataset.\n",
    "\n",
    "Here I am using the gzip module in python to read the files"
   ]
  },
  {
   "cell_type": "code",
   "execution_count": 11,
   "metadata": {},
   "outputs": [],
   "source": [
    "import gzip"
   ]
  },
  {
   "cell_type": "markdown",
   "metadata": {},
   "source": [
    "The open() function reads a gzip-compressed file and returns it as a file object"
   ]
  },
  {
   "cell_type": "markdown",
   "metadata": {},
   "source": [
    "### Reading the Images"
   ]
  },
  {
   "cell_type": "code",
   "execution_count": 12,
   "metadata": {},
   "outputs": [
    {
     "data": {
      "text/plain": [
       "bytes"
      ]
     },
     "execution_count": 12,
     "metadata": {},
     "output_type": "execute_result"
    }
   ],
   "source": [
    "with gzip.open('data/t10k-images-idx3-ubyte.gz', 'rb') as f:\n",
    "    content = f.read()\n",
    "\n",
    "type(content)"
   ]
  },
  {
   "cell_type": "markdown",
   "metadata": {},
   "source": [
    "### Reading Labels"
   ]
  },
  {
   "cell_type": "code",
   "execution_count": 13,
   "metadata": {},
   "outputs": [],
   "source": [
    "with gzip.open('data/t10k-labels-idx1-ubyte.gz', 'rb') as f:\n",
    "    labels = f.read()"
   ]
  },
  {
   "cell_type": "code",
   "execution_count": 14,
   "metadata": {},
   "outputs": [],
   "source": [
    "import numpy as np"
   ]
  },
  {
   "cell_type": "code",
   "execution_count": 15,
   "metadata": {},
   "outputs": [],
   "source": [
    "image = ~np.array(list(content[16:800])).reshape(28,28).astype(np.uint8)"
   ]
  },
  {
   "cell_type": "markdown",
   "metadata": {},
   "source": [
    "### Converting bytes to int\n",
    "https://stackoverflow.com/questions/444591/convert-a-string-of-bytes-into-an-int-python\n",
    "\n",
    "The way that you want to convert bytes depends on the endianness or sequential order of the bytes"
   ]
  },
  {
   "cell_type": "code",
   "execution_count": 16,
   "metadata": {},
   "outputs": [],
   "source": [
    "# int.from_bytes(content, byteorder='big')\n",
    "# int.from_bytes(content[0:4], byteorder='big')\n",
    "\n",
    "# or\n",
    "# int.from_bytes(b'y\\xcc\\xa6\\xbb', byteorder='little')"
   ]
  },
  {
   "cell_type": "code",
   "execution_count": 17,
   "metadata": {},
   "outputs": [
    {
     "data": {
      "text/plain": [
       "<matplotlib.image.AxesImage at 0xb3c23e7b8>"
      ]
     },
     "execution_count": 17,
     "metadata": {},
     "output_type": "execute_result"
    },
    {
     "data": {
      "image/png": "[encoded data removed]",
      "text/plain": [
       "<Figure size 432x288 with 1 Axes>"
      ]
     },
     "metadata": {},
     "output_type": "display_data"
    }
   ],
   "source": [
    "%matplotlib inline\n",
    "import matplotlib.pyplot as plt\n",
    "\n",
    "plt.imshow(image, cmap='gray')"
   ]
  },
  {
   "cell_type": "markdown",
   "metadata": {},
   "source": [
    "### Keras will be used to build the neural network"
   ]
  },
  {
   "cell_type": "code",
   "execution_count": 18,
   "metadata": {},
   "outputs": [],
   "source": [
    "import keras as kr"
   ]
  },
  {
   "cell_type": "code",
   "execution_count": null,
   "metadata": {},
   "outputs": [],
   "source": []
  },
  {
   "cell_type": "code",
   "execution_count": 19,
   "metadata": {},
   "outputs": [],
   "source": [
    "# Start a neural network, building it by layers.\n",
    "model = kr.models.Sequential()"
   ]
  },
  {
   "cell_type": "code",
   "execution_count": 20,
   "metadata": {},
   "outputs": [],
   "source": [
    "# # Add a hidden layer with 1000 neurons and an input layer with 784.\n",
    "# model.add(kr.layers.Dense(units=1000, activation='relu', input_dim=784))\n",
    "# # Add a three neuron output layer.\n",
    "# model.add(kr.layers.Dense(units=10, activation='softmax'))\n",
    "\n",
    "# # Build the graph.\n",
    "# model.compile(loss='categorical_crossentropy', optimizer='sgd', metrics=['accuracy'])\n",
    "\n",
    "# with gzip.open('data/train-images-idx3-ubyte.gz', 'rb') as f:\n",
    "#     train_img = f.read()\n",
    "\n",
    "# with gzip.open('data/train-labels-idx1-ubyte.gz', 'rb') as f:\n",
    "#     train_lbl = f.read()\n",
    "    \n",
    "# train_img = ~np.array(list(train_img[16:])).reshape(60000, 28, 28).astype(np.uint8)\n",
    "# train_lbl =  np.array(list(train_lbl[ 8:])).astype(np.uint8)\n",
    "\n",
    "# inputs = train_img.reshape(60000, 784)\n",
    "\n",
    "# # For encoding categorical variables.\n",
    "# import sklearn.preprocessing as pre\n",
    "\n",
    "# encoder = pre.LabelBinarizer()\n",
    "# encoder.fit(train_lbl)\n",
    "# outputs = encoder.transform(train_lbl)\n",
    "\n",
    "# print(train_lbl[0], outputs[0])\n",
    "\n",
    "# model.fit(inputs, outputs, epochs=15, batch_size=10)\n",
    "\n",
    "# with gzip.open('data/t10k-images-idx3-ubyte.gz', 'rb') as f:\n",
    "#     test_img = f.read()\n",
    "\n",
    "# with gzip.open('data/t10k-labels-idx1-ubyte.gz', 'rb') as f:\n",
    "#     test_lbl = f.read()\n",
    "    \n",
    "# test_img = ~np.array(list(test_img[16:])).reshape(10000, 784).astype(np.uint8)\n",
    "# test_lbl =  np.array(list(test_lbl[ 8:])).astype(np.uint8)\n",
    "\n",
    "# (encoder.inverse_transform(model.predict(test_img)) == test_lbl).sum()\n",
    "\n"
   ]
  },
  {
   "cell_type": "markdown",
   "metadata": {},
   "source": [
    "## End"
   ]
  }
 ],
 "metadata": {
  "kernelspec": {
   "display_name": "Python 3",
   "language": "python",
   "name": "python3"
  },
  "language_info": {
   "codemirror_mode": {
    "name": "ipython",
    "version": 3
   },
   "file_extension": ".py",
   "mimetype": "text/x-python",
   "name": "python",
   "nbconvert_exporter": "python",
   "pygments_lexer": "ipython3",
   "version": "3.6.5"
  }
 },
 "nbformat": 4,
 "nbformat_minor": 2
}
